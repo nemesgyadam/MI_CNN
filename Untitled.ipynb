{
 "cells": [
  {
   "cell_type": "code",
   "execution_count": 1,
   "metadata": {},
   "outputs": [
    {
     "name": "stdout",
     "output_type": "stream",
     "text": [
      "Package                       Version\n",
      "----------------------------- -------------------\n",
      "-atplotlib                    3.3.2\n",
      "-illow                        8.1.0\n",
      "absl-py                       0.11.0\n",
      "alabaster                     0.7.12\n",
      "appdirs                       1.4.4\n",
      "argon2-cffi                   20.1.0\n",
      "asttokens                     2.0.5\n",
      "astunparse                    1.6.3\n",
      "async-generator               1.10\n",
      "attrs                         20.3.0\n",
      "Babel                         2.9.0\n",
      "backcall                      0.2.0\n",
      "bleach                        3.2.1\n",
      "Braindecode                   0.5\n",
      "CacheControl                  0.12.6\n",
      "cached-property               1.5.2\n",
      "cachetools                    4.2.0\n",
      "cachy                         0.3.0\n",
      "certifi                       2020.12.5\n",
      "cffi                          1.14.4\n",
      "cfgv                          3.2.0\n",
      "chardet                       4.0.0\n",
      "cleo                          0.8.1\n",
      "clikit                        0.6.2\n",
      "colorama                      0.4.4\n",
      "crashtest                     0.3.1\n",
      "cycler                        0.10.0\n",
      "decorator                     4.4.2\n",
      "defusedxml                    0.6.0\n",
      "distlib                       0.3.1\n",
      "docutils                      0.16\n",
      "easydict                      1.9\n",
      "EasyProcess                   0.3\n",
      "entrypoint2                   0.2.3\n",
      "entrypoints                   0.3\n",
      "executing                     0.6.0\n",
      "filelock                      3.0.12\n",
      "future                        0.18.2\n",
      "gast                          0.3.3\n",
      "gdflib                        0.0.1\n",
      "google-auth                   1.24.0\n",
      "google-auth-oauthlib          0.4.2\n",
      "google-pasta                  0.2.0\n",
      "grpcio                        1.34.0\n",
      "h5py                          3.2.1\n",
      "html5lib                      1.1\n",
      "icecream                      2.1.0\n",
      "identify                      2.2.0\n",
      "idna                          3.1\n",
      "imagesize                     1.2.0\n",
      "importlib-metadata            3.7.3\n",
      "ipykernel                     5.4.2\n",
      "ipython                       7.19.0\n",
      "ipython-genutils              0.2.0\n",
      "ipywidgets                    7.6.2\n",
      "jedi                          0.18.0\n",
      "Jinja2                        2.11.3\n",
      "joblib                        1.0.1\n",
      "jsonschema                    3.2.0\n",
      "jupyter                       1.0.0\n",
      "jupyter-client                6.1.7\n",
      "jupyter-console               6.2.0\n",
      "jupyter-core                  4.7.0\n",
      "jupyterlab-pygments           0.1.2\n",
      "jupyterlab-widgets            1.0.0\n",
      "jupyterthemes                 0.20.0\n",
      "Keras-Preprocessing           1.1.2\n",
      "keras-tuner                   1.0.2\n",
      "keyring                       21.8.0\n",
      "kiwisolver                    1.3.1\n",
      "lesscpy                       0.14.0\n",
      "lockfile                      0.12.2\n",
      "lxml                          4.6.2\n",
      "Markdown                      3.3.3\n",
      "MarkupSafe                    1.1.1\n",
      "mistune                       0.8.4\n",
      "mkl-fft                       1.2.0\n",
      "mkl-random                    1.1.1\n",
      "mkl-service                   2.3.0\n",
      "mne                           0.22.0\n",
      "moabb                         0.3.0\n",
      "msgpack                       1.0.2\n",
      "nbclient                      0.5.1\n",
      "nbconvert                     6.0.7\n",
      "nbformat                      5.0.8\n",
      "nest-asyncio                  1.4.3\n",
      "nodeenv                       1.5.0\n",
      "notebook                      6.1.6\n",
      "numpy                         1.19.5\n",
      "oauthlib                      3.1.0\n",
      "olefile                       0.46\n",
      "opencv-python                 4.1.1.26\n",
      "opt-einsum                    3.3.0\n",
      "packaging                     20.9\n",
      "pandas                        1.1.5\n",
      "pandocfilters                 1.4.3\n",
      "parso                         0.8.1\n",
      "pastel                        0.2.1\n",
      "patool                        1.12\n",
      "pexpect                       4.8.0\n",
      "pickleshare                   0.7.5\n",
      "Pillow                        8.1.2\n",
      "pip                           20.3.3\n",
      "pkginfo                       1.7.0\n",
      "ply                           3.11\n",
      "poetry                        1.1.6\n",
      "poetry-core                   1.0.3\n",
      "prometheus-client             0.9.0\n",
      "prompt-toolkit                3.0.8\n",
      "protobuf                      3.14.0\n",
      "ptyprocess                    0.7.0\n",
      "pyasn1                        0.4.8\n",
      "pyasn1-modules                0.2.8\n",
      "pycparser                     2.20\n",
      "Pygments                      2.8.1\n",
      "pylev                         1.3.0\n",
      "pyparsing                     2.4.7\n",
      "pyriemann                     0.2.6\n",
      "pyrsistent                    0.17.3\n",
      "python-dateutil               2.8.1\n",
      "pytz                          2021.1\n",
      "pyunpack                      0.2.2\n",
      "pywin32                       300\n",
      "pywin32-ctypes                0.2.0\n",
      "pywinpty                      0.5.7\n",
      "PyYAML                        5.4.1\n",
      "pyzmq                         20.0.0\n",
      "qtconsole                     5.0.1\n",
      "QtPy                          1.9.0\n",
      "requests                      2.15.1\n",
      "requests-oauthlib             1.3.0\n",
      "requests-toolbelt             0.9.1\n",
      "rsa                           4.6\n",
      "scikit-learn                  0.23.2\n",
      "scipy                         1.5.4\n",
      "seaborn                       0.11.1\n",
      "Send2Trash                    1.5.0\n",
      "setuptools                    51.0.0.post20201207\n",
      "shellingham                   1.4.0\n",
      "six                           1.15.0\n",
      "sklearn                       0.0\n",
      "skorch                        0.9.0\n",
      "snowballstemmer               2.1.0\n",
      "Sphinx                        3.5.3\n",
      "sphinxcontrib-applehelp       1.0.2\n",
      "sphinxcontrib-devhelp         1.0.2\n",
      "sphinxcontrib-htmlhelp        1.0.3\n",
      "sphinxcontrib-jsmath          1.0.1\n",
      "sphinxcontrib-qthelp          1.0.3\n",
      "sphinxcontrib-serializinghtml 1.1.4\n",
      "tabulate                      0.8.7\n",
      "tensorboard                   2.2.2\n",
      "tensorboard-plugin-wit        1.7.0\n",
      "tensorflow-gpu                2.3.0rc0\n",
      "termcolor                     1.1.0\n",
      "terminado                     0.9.1\n",
      "terminaltables                3.1.0\n",
      "testpath                      0.4.4\n",
      "tf-estimator-nightly          2.3.0.dev2020062301\n",
      "threadpoolctl                 2.1.0\n",
      "toml                          0.10.2\n",
      "tomlkit                       0.7.2\n",
      "torch                         1.8.1\n",
      "torchvision                   0.9.1\n",
      "tornado                       6.1\n",
      "tqdm                          4.55.1\n",
      "traitlets                     5.0.5\n",
      "typing-extensions             3.7.4.3\n",
      "urllib3                       1.26.4\n",
      "virtualenv                    20.4.3\n",
      "wcwidth                       0.2.5\n",
      "webencodings                  0.5.1\n",
      "Werkzeug                      1.0.1\n",
      "wfdb                          3.3.0\n",
      "wheel                         0.36.2\n",
      "widgetsnbextension            3.5.1\n",
      "wincertstore                  0.2\n",
      "wrapt                         1.12.1\n",
      "zipp                          3.4.1\n"
     ]
    }
   ],
   "source": [
    "!pip list"
   ]
  },
  {
   "cell_type": "code",
   "execution_count": 31,
   "metadata": {},
   "outputs": [],
   "source": [
    "from braindecode.datasets.bbci import  BBCIDataset\n",
    "from collections import OrderedDict"
   ]
  },
  {
   "cell_type": "code",
   "execution_count": 21,
   "metadata": {},
   "outputs": [
    {
     "name": "stdout",
     "output_type": "stream",
     "text": [
      "Creating RawArray with float64 data, n_channels=128, n_times=1225545\n",
      "    Range : 0 ... 1225544 =      0.000 ...  2451.088 secs\n",
      "Ready.\n"
     ]
    }
   ],
   "source": [
    "train_file_path = 'C:/Code/EEG/resources/high-gamma-dataset/train/*.mat'\n",
    "cnt = BBCIDataset(filename='C:/Code/EEG/resources/high-gamma-dataset/train/1.mat', load_sensor_names=None).load()"
   ]
  },
  {
   "cell_type": "code",
   "execution_count": 35,
   "metadata": {},
   "outputs": [
    {
     "name": "stdout",
     "output_type": "stream",
     "text": [
      "1225545\n",
      "2\n",
      "1\n",
      "1225545\n",
      "1225545\n"
     ]
    }
   ],
   "source": [
    "print(len(cnt))\n",
    "print(len(cnt[0]))\n",
    "print(len(cnt[0][0]))\n",
    "print(len(cnt[0][0][0]))\n",
    "\n",
    "print(len(cnt[0][1]))\n"
   ]
  },
  {
   "cell_type": "code",
   "execution_count": 25,
   "metadata": {},
   "outputs": [
    {
     "name": "stdout",
     "output_type": "stream",
     "text": [
      "Creating RawArray with float64 data, n_channels=3, n_times=1225545\n",
      "    Range : 0 ... 1225544 =      0.000 ...  2451.088 secs\n",
      "Ready.\n"
     ]
    }
   ],
   "source": [
    "load_sensor_names = ['C3', 'C4', 'C2']\n",
    "loader = BBCIDataset(train_file_path.replace('*','1'), load_sensor_names=load_sensor_names)\n",
    "cnt = loader.load()"
   ]
  },
  {
   "cell_type": "code",
   "execution_count": 28,
   "metadata": {},
   "outputs": [
    {
     "ename": "NameError",
     "evalue": "name 'create_signal_target_from_raw_mne' is not defined",
     "output_type": "error",
     "traceback": [
      "\u001b[1;31m---------------------------------------------------------------------------\u001b[0m",
      "\u001b[1;31mNameError\u001b[0m                                 Traceback (most recent call last)",
      "\u001b[1;32m<ipython-input-28-ec8f4a813ae6>\u001b[0m in \u001b[0;36m<module>\u001b[1;34m\u001b[0m\n\u001b[0;32m      3\u001b[0m \u001b[0mclean_ival\u001b[0m \u001b[1;33m=\u001b[0m \u001b[1;33m[\u001b[0m\u001b[1;36m0\u001b[0m\u001b[1;33m,\u001b[0m \u001b[1;36m4000\u001b[0m\u001b[1;33m]\u001b[0m\u001b[1;33m\u001b[0m\u001b[0m\n\u001b[0;32m      4\u001b[0m \u001b[1;33m\u001b[0m\u001b[0m\n\u001b[1;32m----> 5\u001b[1;33m set_for_cleaning = create_signal_target_from_raw_mne(cnt, marker_def,\n\u001b[0m\u001b[0;32m      6\u001b[0m                                                   clean_ival)\n",
      "\u001b[1;31mNameError\u001b[0m: name 'create_signal_target_from_raw_mne' is not defined"
     ]
    }
   ],
   "source": [
    "marker_def = OrderedDict([('Right Hand', [1]), ('Left Hand', [2],),\n",
    "                              ('Rest', [3]), ('Feet', [4])])\n",
    "clean_ival = [0, 4000]\n",
    "\n",
    "set_for_cleaning = create_signal_target_from_raw_mne(cnt, marker_def,\n",
    "                                                  clean_ival)"
   ]
  },
  {
   "cell_type": "code",
   "execution_count": null,
   "metadata": {},
   "outputs": [],
   "source": []
  }
 ],
 "metadata": {
  "kernelspec": {
   "display_name": "Python 3",
   "language": "python",
   "name": "python3"
  },
  "language_info": {
   "codemirror_mode": {
    "name": "ipython",
    "version": 3
   },
   "file_extension": ".py",
   "mimetype": "text/x-python",
   "name": "python",
   "nbconvert_exporter": "python",
   "pygments_lexer": "ipython3",
   "version": "3.7.0"
  }
 },
 "nbformat": 4,
 "nbformat_minor": 4
}
