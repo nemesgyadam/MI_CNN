{
 "cells": [
  {
   "cell_type": "code",
   "execution_count": 3,
   "metadata": {},
   "outputs": [],
   "source": [
    "import numpy as np\n",
    "from matplotlib import pyplot as plt\n",
    "from sklearn.model_selection import train_test_split\n",
    "import tensorflow as tf\n",
    "from tensorflow import keras\n",
    "from tensorflow.keras.utils import to_categorical\n",
    "from tensorflow.keras.models import Sequential\n",
    "from tensorflow.keras import layers as layers\n",
    "from tensorflow.keras.layers import GlobalMaxPooling2D, Activation, Dense, Conv1D, Conv2D, Dropout, Flatten, MaxPooling2D, BatchNormalization, GlobalMaxPooling1D\n",
    "\n",
    "from tensorflow.keras.models import Model\n",
    "from tensorflow.keras.layers import Dense, Activation, Permute, Dropout\n",
    "from tensorflow.keras.layers import Conv2D, MaxPooling2D, AveragePooling2D\n",
    "from tensorflow.keras.layers import SeparableConv2D, DepthwiseConv2D\n",
    "from tensorflow.keras.layers import BatchNormalization\n",
    "from tensorflow.keras.layers import SpatialDropout2D\n",
    "from tensorflow.keras.regularizers import l1_l2\n",
    "from tensorflow.keras.layers import Input, Flatten\n",
    "from tensorflow.keras.constraints import max_norm\n",
    "from tensorflow.keras import backend as K\n",
    "\n",
    "from tensorflow.keras import optimizers\n",
    "from kerastuner.tuners import RandomSearch\n",
    "import itertools\n",
    "from sklearn.utils import shuffle\n",
    "\n",
    "%matplotlib inline\n",
    "\n",
    "##########################################################\n",
    "##  DATA SOURCE:\n",
    "##  https://github.com/bregydoc/bcidatasetIV2a\n",
    "##  http://www.bbci.de/competition/iv/desc_2a.pdf\n",
    "##########################################################\n",
    "\n",
    "resource_folder='../resources/bcidatasetIV2a/'"
   ]
  },
  {
   "cell_type": "code",
   "execution_count": 4,
   "metadata": {},
   "outputs": [],
   "source": [
    "train_datas = []\n",
    "#eval_datas = []\n",
    "for i in range(1,9):\n",
    "    train_datas.append(np.load(resource_folder+'A0'+str(i)+'T.npz'))\n",
    "    \n",
    "#for i in range(1,9):\n",
    "#    eval_datas.append(np.load(resource_folder+'A0'+str(i)+'E.npz'))\n",
    "    \n",
    "primary_motor_cortex_electrodes=[7,8,9,10,11]\n",
    "random_electrodes = [1,4,13,20,21]\n",
    "EOG_electrodes=[22,23,24]\n",
    "############################################\n",
    "event_codes=[769,770,771,772]\n",
    "event_names=['left','right','foot','tounge']\n",
    "\n",
    "#event_codes=[769,770]\n",
    "#event_names=['left','right']\n",
    "############################################\n",
    "\n"
   ]
  },
  {
   "cell_type": "code",
   "execution_count": 5,
   "metadata": {
    "scrolled": false
   },
   "outputs": [
    {
     "name": "stdout",
     "output_type": "stream",
     "text": [
      "(2304, 313, 25)\n",
      "(2304, 4)\n"
     ]
    }
   ],
   "source": [
    "X=[]\n",
    "y=[]\n",
    "i=0\n",
    "for data in train_datas:\n",
    "    signal = data['s']\n",
    "    \n",
    "    #REMOVE EOG\n",
    "    #signal=np.delete(signal,EOG_electrodes,axis=1)\n",
    "    \n",
    "    #USE ONLY ELECTRODES OVER MOTOR CORTEX\n",
    "    #signal = signal[:,primary_motor_cortex_electrodes]\n",
    "\n",
    "    #USE 5 RANDOM ELECTRODES\n",
    "    #signal = signal[:,random_electrodes]\n",
    "        \n",
    "    #FILTER BANDWIDTH\n",
    "    signal=np.clip(signal,-20,20)\n",
    "    signal=np.divide(signal, 20) #HASZNOS\n",
    "       \n",
    "    \n",
    "    event_count=data['etyp'].shape[0]\n",
    "    \n",
    "    for x in range(event_count): \n",
    "        epos = data['epos'].T[0, x]\n",
    "        edur = data['edur'].T[0, x]\n",
    "        etype= data['etyp'].T[0, x]\n",
    "        if edur>10:\n",
    "            if int(etype) in event_codes:\n",
    "                trial = signal[epos:epos+edur]\n",
    "                X.append(trial)\n",
    "                y.append(event_codes.index(etype))\n",
    "                \n",
    "    #FIRST PATIENT ONLY\n",
    "    #break \n",
    "    \n",
    "    #FIRST N PATINT ONLY\n",
    "    #if i==4:\n",
    "    #    break\n",
    "    #i+=1\n",
    "        \n",
    "        \n",
    "X=np.array(X)\n",
    "\n",
    "y=to_categorical(np.array(y))\n",
    "#############################################\n",
    "#LABEL SMOOTHING\n",
    "smooth_value=0.95\n",
    "y*=smooth_value\n",
    "smooth_min=(1-smooth_value)/(y.shape[1]-1)\n",
    "y=np.where(y==0, smooth_min, y) \n",
    "#############################################\n",
    "print(X.shape)\n",
    "print(y.shape)\n"
   ]
  },
  {
   "cell_type": "code",
   "execution_count": 6,
   "metadata": {},
   "outputs": [
    {
     "name": "stdout",
     "output_type": "stream",
     "text": [
      "(2073, 25, 313)\n",
      "(2073, 4)\n",
      "\n",
      "(115, 25, 313)\n",
      "(115, 4)\n",
      "\n",
      "(116, 25, 313)\n",
      "(116, 4)\n",
      "\n"
     ]
    }
   ],
   "source": [
    "#SHUFFLE INCLUDED\n",
    "X_train, X_temp, y_train, y_temp = train_test_split(X, y, test_size=0.1, random_state=16)\n",
    "X_val, X_test, y_val, y_test=train_test_split(X_temp, y_temp, test_size=0.5)\n",
    "\n",
    "\n",
    "# IN CASE EEGNET\n",
    "X_train=np.transpose(X_train,(0,2,1))\n",
    "X_val=  np.transpose(X_val,(0,2,1))\n",
    "X_test= np.transpose(X_test,(0,2,1))\n",
    "\n",
    "\n",
    "print(X_train.shape)\n",
    "print(y_train.shape)\n",
    "print()\n",
    "print(X_val.shape)\n",
    "print(y_val.shape)\n",
    "print()\n",
    "print(X_test.shape)\n",
    "print(y_test.shape)\n",
    "print()\n",
    "\n"
   ]
  },
  {
   "cell_type": "code",
   "execution_count": 7,
   "metadata": {},
   "outputs": [],
   "source": [
    "def EEGNet(hp, nb_classes=4, Chans = 25, Samples = 313, \n",
    "             dropoutRate = 0.5, F1 = 8, \n",
    "             D = 2, F2 = 16, norm_rate = 0.25):    \n",
    "\n",
    "    kernLength = hp.Int('kernelLength',\n",
    "                       min_value = 5,\n",
    "                       max_value = 155,\n",
    "                       step=10)\n",
    "    \n",
    "    input1   = Input(shape = (Chans, Samples, 1))\n",
    "\n",
    "    ##################################################################\n",
    "    block1       = Conv2D(F1, (1, kernLength), padding = 'same',\n",
    "                                   input_shape = (Chans, Samples, 1),\n",
    "                                   use_bias = False)(input1)\n",
    "    block1       = BatchNormalization()(block1)\n",
    "    block1       = DepthwiseConv2D((Chans, 1), use_bias = False, \n",
    "                                   depth_multiplier = D,\n",
    "                                   depthwise_constraint = max_norm(1.))(block1)\n",
    "    block1       = BatchNormalization()(block1)\n",
    "    block1       = Activation('elu')(block1)\n",
    "    block1       = AveragePooling2D((1, 4))(block1)\n",
    "  \n",
    "    block1       = Dropout(dropoutRate)(block1)\n",
    "    \n",
    "    block2       = SeparableConv2D(F2, (1, 16),\n",
    "                                   use_bias = False, padding = 'same')(block1)\n",
    "    block2       = BatchNormalization()(block2)\n",
    "    block2       = Activation('elu')(block2)\n",
    "    block2       = AveragePooling2D((1, 8))(block2)\n",
    "\n",
    "    block2       = Dropout(dropoutRate)(block2)\n",
    "        \n",
    "    flatten      = Flatten(name = 'flatten')(block2)\n",
    "    \n",
    "    dense        = Dense(nb_classes, name = 'dense', \n",
    "                         kernel_constraint = max_norm(norm_rate))(flatten)\n",
    "    softmax      = Activation('softmax', name = 'softmax')(dense)\n",
    "    \n",
    "    model = Model(inputs=input1, outputs=softmax)\n",
    "    opt = keras.optimizers.Adam(lr=0.005)\n",
    "    model.compile(optimizer=opt,\n",
    "          #loss='binary_crossentropy',\n",
    "          loss='categorical_crossentropy',\n",
    "          metrics=['accuracy']\n",
    "         )\n",
    "\n",
    "    return model"
   ]
  },
  {
   "cell_type": "code",
   "execution_count": 8,
   "metadata": {},
   "outputs": [],
   "source": [
    "def scheduler(epoch, lr):\n",
    "    if epoch < 60:\n",
    "        return lr\n",
    "    else:\n",
    "        return lr * tf.math.exp(-0.1)\n",
    "    \n",
    "callback = tf.keras.callbacks.LearningRateScheduler(scheduler)"
   ]
  },
  {
   "cell_type": "code",
   "execution_count": 9,
   "metadata": {
    "scrolled": true
   },
   "outputs": [
    {
     "name": "stdout",
     "output_type": "stream",
     "text": [
      "INFO:tensorflow:Reloading Oracle from existing project kernel_search\\kernel_search\\oracle.json\n",
      "INFO:tensorflow:Reloading Tuner from kernel_search\\kernel_search\\tuner0.json\n",
      "Search space summary\n",
      "Default search space size: 1\n",
      "kernelLength (Int)\n",
      "{'default': None, 'conditions': [], 'min_value': 5, 'max_value': 155, 'step': 10, 'sampling': None}\n"
     ]
    }
   ],
   "source": [
    "import os\n",
    "os.environ[\"CUDA_VISIBLE_DEVICES\"] = \"1\"\n",
    "os.environ['TF_FORCE_GPU_ALLOW_GROWTH'] = 'true'\n",
    "\n",
    "tuner = RandomSearch(\n",
    "    EEGNet,\n",
    "    objective='val_loss',\n",
    "    max_trials=20,\n",
    "    executions_per_trial=3,\n",
    "    directory='kernel_search',\n",
    "    project_name='kernel_search')\n",
    "tuner.search_space_summary()"
   ]
  },
  {
   "cell_type": "code",
   "execution_count": 10,
   "metadata": {
    "scrolled": true
   },
   "outputs": [
    {
     "name": "stdout",
     "output_type": "stream",
     "text": [
      "INFO:tensorflow:Oracle triggered exit\n"
     ]
    }
   ],
   "source": [
    "tuner.search(X_train,\n",
    "             y_train,\n",
    "             validation_data=(X_val, y_val),\n",
    "             batch_size=32,\n",
    "             epochs=100,\n",
    "             shuffle=True,\n",
    "             callbacks=[callback])\n"
   ]
  },
  {
   "cell_type": "code",
   "execution_count": 11,
   "metadata": {},
   "outputs": [
    {
     "name": "stdout",
     "output_type": "stream",
     "text": [
      "Results summary\n",
      "Results in kernel_search\\kernel_search\n",
      "Showing 10 best trials\n",
      "Objective(name='val_loss', direction='min')\n",
      "Trial summary\n",
      "Hyperparameters:\n",
      "kernelLength: 115\n",
      "Score: 0.6853651801745096\n",
      "Trial summary\n",
      "Hyperparameters:\n",
      "kernelLength: 145\n",
      "Score: 0.6885085701942444\n",
      "Trial summary\n",
      "Hyperparameters:\n",
      "kernelLength: 135\n",
      "Score: 0.6906039913495382\n",
      "Trial summary\n",
      "Hyperparameters:\n",
      "kernelLength: 125\n",
      "Score: 0.6932589014371237\n",
      "Trial summary\n",
      "Hyperparameters:\n",
      "kernelLength: 45\n",
      "Score: 0.6969151894251505\n",
      "Trial summary\n",
      "Hyperparameters:\n",
      "kernelLength: 155\n",
      "Score: 0.6988972822825114\n",
      "Trial summary\n",
      "Hyperparameters:\n",
      "kernelLength: 75\n",
      "Score: 0.7001622517903646\n",
      "Trial summary\n",
      "Hyperparameters:\n",
      "kernelLength: 95\n",
      "Score: 0.7036732236544291\n",
      "Trial summary\n",
      "Hyperparameters:\n",
      "kernelLength: 55\n",
      "Score: 0.7095418175061544\n",
      "Trial summary\n",
      "Hyperparameters:\n",
      "kernelLength: 85\n",
      "Score: 0.7146231333414713\n"
     ]
    }
   ],
   "source": [
    "tuner.results_summary()"
   ]
  },
  {
   "cell_type": "code",
   "execution_count": 13,
   "metadata": {},
   "outputs": [
    {
     "data": {
      "image/png": "[encoded data removed]",
      "text/plain": [
       "<Figure size 576x360 with 1 Axes>"
      ]
     },
     "metadata": {
      "needs_background": "light"
     },
     "output_type": "display_data"
    }
   ],
   "source": [
    "plt.rcParams[\"figure.figsize\"] = [8, 5]\n",
    "plt.ylim([0, 2])\n",
    "plt.plot(history.history['loss'])\n",
    "plt.plot(history.history['val_loss'])\n",
    "plt.title('model loss')\n",
    "plt.ylabel('loss')\n",
    "plt.xlabel('epoch')\n",
    "plt.legend(['train', 'val'], loc='upper left')\n",
    "plt.show()"
   ]
  },
  {
   "cell_type": "code",
   "execution_count": 14,
   "metadata": {},
   "outputs": [
    {
     "data": {
      "image/png": "[encoded data removed]",
      "text/plain": [
       "<Figure size 576x360 with 1 Axes>"
      ]
     },
     "metadata": {
      "needs_background": "light"
     },
     "output_type": "display_data"
    }
   ],
   "source": [
    "plt.ylim([0, 2])\n",
    "plt.plot(history.history['accuracy'])\n",
    "plt.plot(history.history['val_accuracy'])\n",
    "plt.title('model accuracy')\n",
    "plt.ylabel('accuracy')\n",
    "plt.xlabel('epoch')\n",
    "plt.legend(['train', 'val'], loc='upper left')\n",
    "plt.show()"
   ]
  },
  {
   "cell_type": "markdown",
   "metadata": {},
   "source": [
    "## PREDICT"
   ]
  },
  {
   "cell_type": "code",
   "execution_count": 15,
   "metadata": {},
   "outputs": [
    {
     "name": "stdout",
     "output_type": "stream",
     "text": [
      "SUMM:58 | correct: 50 | incorrect: 8\n",
      "Accuracy: 86.21%\n"
     ]
    }
   ],
   "source": [
    "summ, correct, incorrect = 0, 0, 0\n",
    "\n",
    "for i in range(len(X_test)):\n",
    "    #print(y_test[i])\n",
    "    #gt = np.where(y_test[i]== 1)[0][0]\n",
    "    gt = np.where(y_test[i]>0.5)[0][0]\n",
    "\n",
    "    #print(gt)\n",
    "    input_data=X_test[i]\n",
    "    #print(\"#################\")\n",
    "    #print(input_data.shape)\n",
    "    \n",
    "    #Doesn't matter?\n",
    "    input_data=np.expand_dims(input_data, axis=0)\n",
    "    \n",
    "    #print(input_data.shape)\n",
    "    input_data=np.expand_dims(input_data, axis = -1)\n",
    "    #print(input_data.shape)\n",
    "\n",
    "    \n",
    "    #print(\"#################\")\n",
    "    #print(input_data.shape)\n",
    "    result = model.predict(input_data)[0]\n",
    "    #print(result)\n",
    "    prediction = np.where(result == np.amax(result))[0][0]\n",
    "    #print(prediction)\n",
    "    summ+=1\n",
    "    if gt==prediction:\n",
    "        correct+=1\n",
    "    else:\n",
    "        incorrect+=1\n",
    "    #print()\n",
    "print(\"SUMM:{} | correct: {} | incorrect: {}\".format(summ, correct, incorrect))\n",
    "print(\"Accuracy: {}%\".format(round((correct/summ)*100,2)))\n"
   ]
  },
  {
   "cell_type": "code",
   "execution_count": 14,
   "metadata": {
    "scrolled": true
   },
   "outputs": [
    {
     "name": "stdout",
     "output_type": "stream",
     "text": [
      "Tue May 11 16:56:37 2021       \n",
      "+-----------------------------------------------------------------------------+\n",
      "| NVIDIA-SMI 461.92       Driver Version: 461.92       CUDA Version: 11.2     |\n",
      "|-------------------------------+----------------------+----------------------+\n",
      "| GPU  Name            TCC/WDDM | Bus-Id        Disp.A | Volatile Uncorr. ECC |\n",
      "| Fan  Temp  Perf  Pwr:Usage/Cap|         Memory-Usage | GPU-Util  Compute M. |\n",
      "|                               |                      |               MIG M. |\n",
      "|===============================+======================+======================|\n",
      "|   0  GeForce GTX 106... WDDM  | 00000000:01:00.0 Off |                  N/A |\n",
      "|  0%   45C    P8     6W / 120W |    238MiB /  6144MiB |      0%      Default |\n",
      "|                               |                      |                  N/A |\n",
      "+-------------------------------+----------------------+----------------------+\n",
      "|   1  GeForce GTX 106... WDDM  | 00000000:03:00.0  On |                  N/A |\n",
      "| 41%   58C    P0    27W / 120W |   3316MiB /  6144MiB |      0%      Default |\n",
      "|                               |                      |                  N/A |\n",
      "+-------------------------------+----------------------+----------------------+\n",
      "                                                                               \n",
      "+-----------------------------------------------------------------------------+\n",
      "| Processes:                                                                  |\n",
      "|  GPU   GI   CI        PID   Type   Process name                  GPU Memory |\n",
      "|        ID   ID                                                   Usage      |\n",
      "|=============================================================================|\n",
      "|    0   N/A  N/A     19356    C+G   ...s-client\\OculusClient.exe    N/A      |\n",
      "|    1   N/A  N/A      3948    C+G   Insufficient Permissions        N/A      |\n",
      "|    1   N/A  N/A      5020    C+G   Insufficient Permissions        N/A      |\n",
      "|    1   N/A  N/A      9532    C+G   ...h\\dash\\bin\\OculusDash.exe    N/A      |\n",
      "|    1   N/A  N/A     10368    C+G   Insufficient Permissions        N/A      |\n",
      "|    1   N/A  N/A     13972    C+G   Insufficient Permissions        N/A      |\n",
      "|    1   N/A  N/A     15456    C+G   Insufficient Permissions        N/A      |\n",
      "|    1   N/A  N/A     15524    C+G   Insufficient Permissions        N/A      |\n",
      "|    1   N/A  N/A     16300      C   ...conda3\\envs\\tf\\python.exe    N/A      |\n",
      "|    1   N/A  N/A     18896    C+G   Insufficient Permissions        N/A      |\n",
      "|    1   N/A  N/A     21348    C+G   ...runtime\\OVRServer_x64.exe    N/A      |\n",
      "+-----------------------------------------------------------------------------+\n"
     ]
    }
   ],
   "source": [
    "!nvidia-smi"
   ]
  },
  {
   "cell_type": "code",
   "execution_count": 2,
   "metadata": {},
   "outputs": [],
   "source": [
    "!jt -t oceans16 -T"
   ]
  },
  {
   "cell_type": "code",
   "execution_count": null,
   "metadata": {},
   "outputs": [],
   "source": []
  }
 ],
 "metadata": {
  "kernelspec": {
   "display_name": "Python 3",
   "language": "python",
   "name": "python3"
  },
  "language_info": {
   "codemirror_mode": {
    "name": "ipython",
    "version": 3
   },
   "file_extension": ".py",
   "mimetype": "text/x-python",
   "name": "python",
   "nbconvert_exporter": "python",
   "pygments_lexer": "ipython3",
   "version": "3.7.0"
  }
 },
 "nbformat": 4,
 "nbformat_minor": 4
}
