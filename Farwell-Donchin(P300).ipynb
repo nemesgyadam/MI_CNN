{
 "cells": [
  {
   "cell_type": "code",
   "execution_count": 2,
   "metadata": {
    "scrolled": true
   },
   "outputs": [
    {
     "data": {
      "text/plain": [
       "[name: \"/device:CPU:0\"\n",
       " device_type: \"CPU\"\n",
       " memory_limit: 268435456\n",
       " locality {\n",
       " }\n",
       " incarnation: 2003190958323483017,\n",
       " name: \"/device:XLA_CPU:0\"\n",
       " device_type: \"XLA_CPU\"\n",
       " memory_limit: 17179869184\n",
       " locality {\n",
       " }\n",
       " incarnation: 7175927687443126342\n",
       " physical_device_desc: \"device: XLA_CPU device\",\n",
       " name: \"/device:GPU:0\"\n",
       " device_type: \"GPU\"\n",
       " memory_limit: 5060693856\n",
       " locality {\n",
       "   bus_id: 1\n",
       "   links {\n",
       "   }\n",
       " }\n",
       " incarnation: 11386483113664539764\n",
       " physical_device_desc: \"device: 0, name: GeForce GTX 1060 6GB, pci bus id: 0000:01:00.0, compute capability: 6.1\",\n",
       " name: \"/device:GPU:1\"\n",
       " device_type: \"GPU\"\n",
       " memory_limit: 5060693856\n",
       " locality {\n",
       "   bus_id: 1\n",
       "   links {\n",
       "   }\n",
       " }\n",
       " incarnation: 3160809288145548866\n",
       " physical_device_desc: \"device: 1, name: GeForce GTX 1060 6GB, pci bus id: 0000:03:00.0, compute capability: 6.1\",\n",
       " name: \"/device:XLA_GPU:0\"\n",
       " device_type: \"XLA_GPU\"\n",
       " memory_limit: 17179869184\n",
       " locality {\n",
       " }\n",
       " incarnation: 8786114872414865438\n",
       " physical_device_desc: \"device: XLA_GPU device\",\n",
       " name: \"/device:XLA_GPU:1\"\n",
       " device_type: \"XLA_GPU\"\n",
       " memory_limit: 17179869184\n",
       " locality {\n",
       " }\n",
       " incarnation: 540594719654813643\n",
       " physical_device_desc: \"device: XLA_GPU device\"]"
      ]
     },
     "execution_count": 2,
     "metadata": {},
     "output_type": "execute_result"
    }
   ],
   "source": [
    "import tensorflow\n",
    "from tensorflow.python.client import device_lib\n",
    "\n",
    "device_lib.list_local_devices()"
   ]
  },
  {
   "cell_type": "code",
   "execution_count": 1,
   "metadata": {},
   "outputs": [],
   "source": [
    "import scipy.io\n",
    "import matplotlib.pyplot as plt\n",
    "import numpy as np\n",
    "from sklearn.model_selection import train_test_split\n",
    "import glob\n",
    "\n",
    "import tensorflow as tf\n",
    "from tensorflow import keras\n",
    "from tensorflow.keras.utils import to_categorical\n",
    "from tensorflow.keras.models import Sequential\n",
    "from tensorflow.keras import layers as layers\n",
    "from tensorflow.keras.layers import GlobalMaxPooling2D, Activation, Dense, Conv1D, Conv2D, Dropout, Flatten, MaxPooling2D, BatchNormalization, GlobalMaxPooling1D\n",
    "from tensorflow.keras import optimizers\n",
    "\n",
    "\n",
    "%matplotlib inline\n",
    "folder = '../resources/P300/'\n",
    "mats = []\n",
    "mats.append(scipy.io.loadmat(folder+'P300S01.mat'))\n",
    "mats.append(scipy.io.loadmat(folder+'P300S02.mat'))\n",
    "mats.append(scipy.io.loadmat(folder+'P300S03.mat'))\n",
    "mats.append(scipy.io.loadmat(folder+'P300S04.mat'))\n",
    "mats.append(scipy.io.loadmat(folder+'P300S05.mat'))\n",
    "mats.append(scipy.io.loadmat(folder+'P300S06.mat'))\n",
    "mats.append(scipy.io.loadmat(folder+'P300S07.mat'))\n",
    "mats.append(scipy.io.loadmat(folder+'P300S08.mat'))\n",
    "folder = folder+'*.mat'\n",
    "files = glob.glob(folder)"
   ]
  },
  {
   "cell_type": "code",
   "execution_count": 4,
   "metadata": {},
   "outputs": [],
   "source": [
    "#!pip install sklearn"
   ]
  },
  {
   "cell_type": "code",
   "execution_count": 2,
   "metadata": {},
   "outputs": [],
   "source": [
    "from scipy.signal import butter, lfilter, freqz\n",
    "\n",
    "def butter_lowpass(cutoff, fs, order=5):\n",
    "    nyq = 0.5 * fs\n",
    "    normal_cutoff = cutoff / nyq\n",
    "    b, a = butter(order, normal_cutoff, btype='low', analog=False)\n",
    "    return b, a\n",
    "\n",
    "def butter_lowpass_filter(data, cutoff, fs, order=5):\n",
    "    b, a = butter_lowpass(cutoff, fs, order=order)\n",
    "    y = lfilter(b, a, data)\n",
    "    return y\n",
    "\n",
    "\n",
    "# Filter requirements.\n",
    "order = 6\n",
    "fs = 24.0       # sample rate, Hz\n",
    "cutoff = 1.5  # desired cutoff frequency of the filter, Hz\n",
    "\n",
    "# Get the filter coefficients so we can check its frequency response.\n",
    "b, a = butter_lowpass(cutoff, fs, order)"
   ]
  },
  {
   "cell_type": "code",
   "execution_count": 3,
   "metadata": {},
   "outputs": [
    {
     "ename": "NameError",
     "evalue": "name 'clean_data' is not defined",
     "output_type": "error",
     "traceback": [
      "\u001b[1;31m---------------------------------------------------------------------------\u001b[0m",
      "\u001b[1;31mNameError\u001b[0m                                 Traceback (most recent call last)",
      "\u001b[1;32m<ipython-input-3-3a34c01c7128>\u001b[0m in \u001b[0;36m<module>\u001b[1;34m\u001b[0m\n\u001b[0;32m      3\u001b[0m     \u001b[0my\u001b[0m \u001b[1;33m=\u001b[0m \u001b[0mmat\u001b[0m\u001b[1;33m[\u001b[0m\u001b[1;34m'data'\u001b[0m\u001b[1;33m]\u001b[0m\u001b[1;33m[\u001b[0m\u001b[1;34m'y'\u001b[0m\u001b[1;33m]\u001b[0m\u001b[1;33m[\u001b[0m\u001b[1;36m0\u001b[0m\u001b[1;33m]\u001b[0m\u001b[1;33m[\u001b[0m\u001b[1;36m0\u001b[0m\u001b[1;33m]\u001b[0m\u001b[1;33m\u001b[0m\u001b[0m\n\u001b[0;32m      4\u001b[0m     \u001b[0mflash\u001b[0m \u001b[1;33m=\u001b[0m \u001b[0mmat\u001b[0m\u001b[1;33m[\u001b[0m\u001b[1;34m'data'\u001b[0m\u001b[1;33m]\u001b[0m\u001b[1;33m[\u001b[0m\u001b[1;34m'flash'\u001b[0m\u001b[1;33m]\u001b[0m\u001b[1;33m[\u001b[0m\u001b[1;36m0\u001b[0m\u001b[1;33m]\u001b[0m\u001b[1;33m[\u001b[0m\u001b[1;36m0\u001b[0m\u001b[1;33m]\u001b[0m\u001b[1;33m\u001b[0m\u001b[0m\n\u001b[1;32m----> 5\u001b[1;33m     \u001b[0mcleaned_X\u001b[0m\u001b[1;33m,\u001b[0m \u001b[0mcleaned_Y\u001b[0m \u001b[1;33m=\u001b[0m \u001b[0mclean_data\u001b[0m\u001b[1;33m(\u001b[0m\u001b[0mX\u001b[0m\u001b[1;33m,\u001b[0m\u001b[0my\u001b[0m\u001b[1;33m,\u001b[0m\u001b[0mflash\u001b[0m\u001b[1;33m)\u001b[0m\u001b[1;33m\u001b[0m\u001b[0m\n\u001b[0m\u001b[0;32m      6\u001b[0m \u001b[1;33m\u001b[0m\u001b[0m\n\u001b[0;32m      7\u001b[0m \u001b[0my2\u001b[0m\u001b[1;33m=\u001b[0m\u001b[1;33m[\u001b[0m\u001b[1;33m]\u001b[0m\u001b[1;33m\u001b[0m\u001b[0m\n",
      "\u001b[1;31mNameError\u001b[0m: name 'clean_data' is not defined"
     ]
    }
   ],
   "source": [
    "for mat in mats:\n",
    "    X = mat['data']['X'][0][0]\n",
    "    y = mat['data']['y'][0][0]\n",
    "    flash = mat['data']['flash'][0][0]\n",
    "    cleaned_X, cleaned_Y = clean_data(X,y,flash)\n",
    "    \n",
    "y2=[]\n",
    "for value in y:\n",
    "    y2.append(value*50)"
   ]
  },
  {
   "cell_type": "code",
   "execution_count": 7,
   "metadata": {},
   "outputs": [
    {
     "data": {
      "text/plain": [
       "(358372, 8)"
      ]
     },
     "execution_count": 7,
     "metadata": {},
     "output_type": "execute_result"
    }
   ],
   "source": [
    "X.shape"
   ]
  },
  {
   "cell_type": "code",
   "execution_count": 8,
   "metadata": {},
   "outputs": [
    {
     "data": {
      "text/plain": [
       "array([7486,   31,   11,    1])"
      ]
     },
     "execution_count": 8,
     "metadata": {},
     "output_type": "execute_result"
    }
   ],
   "source": [
    "flash[0]"
   ]
  },
  {
   "cell_type": "code",
   "execution_count": 9,
   "metadata": {},
   "outputs": [
    {
     "data": {
      "image/png": "[encoded data removed]",
      "text/plain": [
       "<Figure size 432x288 with 1 Axes>"
      ]
     },
     "metadata": {
      "needs_background": "light"
     },
     "output_type": "display_data"
    }
   ],
   "source": [
    "plt.plot(y[0:10000])\n",
    "plt.show()"
   ]
  },
  {
   "cell_type": "code",
   "execution_count": 10,
   "metadata": {},
   "outputs": [
    {
     "ename": "NameError",
     "evalue": "name 'y2' is not defined",
     "output_type": "error",
     "traceback": [
      "\u001b[1;31m---------------------------------------------------------------------------\u001b[0m",
      "\u001b[1;31mNameError\u001b[0m                                 Traceback (most recent call last)",
      "\u001b[1;32m<ipython-input-10-53b4608bd3f5>\u001b[0m in \u001b[0;36m<module>\u001b[1;34m\u001b[0m\n\u001b[0;32m      1\u001b[0m \u001b[0mplt\u001b[0m\u001b[1;33m.\u001b[0m\u001b[0mplot\u001b[0m\u001b[1;33m(\u001b[0m\u001b[0mX\u001b[0m\u001b[1;33m[\u001b[0m\u001b[1;36m7400\u001b[0m\u001b[1;33m:\u001b[0m\u001b[1;36m7650\u001b[0m\u001b[1;33m]\u001b[0m\u001b[1;33m)\u001b[0m\u001b[1;33m\u001b[0m\u001b[0m\n\u001b[1;32m----> 2\u001b[1;33m \u001b[0mplt\u001b[0m\u001b[1;33m.\u001b[0m\u001b[0mplot\u001b[0m\u001b[1;33m(\u001b[0m\u001b[0my2\u001b[0m\u001b[1;33m[\u001b[0m\u001b[1;36m7400\u001b[0m\u001b[1;33m:\u001b[0m\u001b[1;36m7650\u001b[0m\u001b[1;33m]\u001b[0m\u001b[1;33m)\u001b[0m\u001b[1;33m\u001b[0m\u001b[0m\n\u001b[0m\u001b[0;32m      3\u001b[0m \u001b[0mplt\u001b[0m\u001b[1;33m.\u001b[0m\u001b[0mshow\u001b[0m\u001b[1;33m(\u001b[0m\u001b[1;33m)\u001b[0m\u001b[1;33m\u001b[0m\u001b[0m\n",
      "\u001b[1;31mNameError\u001b[0m: name 'y2' is not defined"
     ]
    },
    {
     "data": {
      "image/png": "[encoded data removed]",
      "text/plain": [
       "<Figure size 432x288 with 1 Axes>"
      ]
     },
     "metadata": {
      "needs_background": "light"
     },
     "output_type": "display_data"
    }
   ],
   "source": [
    "plt.plot(X[7400:7650])\n",
    "plt.plot(y2[7400:7650])\n",
    "plt.show()"
   ]
  },
  {
   "cell_type": "code",
   "execution_count": 4,
   "metadata": {},
   "outputs": [
    {
     "ename": "NameError",
     "evalue": "name 'flash' is not defined",
     "output_type": "error",
     "traceback": [
      "\u001b[1;31m---------------------------------------------------------------------------\u001b[0m",
      "\u001b[1;31mNameError\u001b[0m                                 Traceback (most recent call last)",
      "\u001b[1;32m<ipython-input-4-89c9a4c0e234>\u001b[0m in \u001b[0;36m<module>\u001b[1;34m\u001b[0m\n\u001b[1;32m----> 1\u001b[1;33m \u001b[0mX_samples\u001b[0m \u001b[1;33m=\u001b[0m \u001b[0mnp\u001b[0m\u001b[1;33m.\u001b[0m\u001b[0marray\u001b[0m\u001b[1;33m(\u001b[0m\u001b[1;33m[\u001b[0m\u001b[0mnp\u001b[0m\u001b[1;33m.\u001b[0m\u001b[0marray\u001b[0m\u001b[1;33m(\u001b[0m\u001b[0mX\u001b[0m\u001b[1;33m[\u001b[0m\u001b[0mi\u001b[0m\u001b[1;33m[\u001b[0m\u001b[1;36m0\u001b[0m\u001b[1;33m]\u001b[0m\u001b[1;33m:\u001b[0m\u001b[0mi\u001b[0m\u001b[1;33m[\u001b[0m\u001b[1;36m0\u001b[0m\u001b[1;33m]\u001b[0m\u001b[1;33m+\u001b[0m\u001b[1;36m351\u001b[0m\u001b[1;33m]\u001b[0m\u001b[1;33m)\u001b[0m \u001b[1;32mfor\u001b[0m \u001b[0mi\u001b[0m \u001b[1;32min\u001b[0m \u001b[0mflash\u001b[0m\u001b[1;33m]\u001b[0m \u001b[1;33m)\u001b[0m\u001b[1;33m\u001b[0m\u001b[0m\n\u001b[0m",
      "\u001b[1;31mNameError\u001b[0m: name 'flash' is not defined"
     ]
    }
   ],
   "source": [
    "X_samples = np.array([np.array(X[i[0]:i[0]+351]) for i in flash] )"
   ]
  },
  {
   "cell_type": "code",
   "execution_count": 5,
   "metadata": {
    "scrolled": true
   },
   "outputs": [
    {
     "ename": "NameError",
     "evalue": "name 'flash' is not defined",
     "output_type": "error",
     "traceback": [
      "\u001b[1;31m---------------------------------------------------------------------------\u001b[0m",
      "\u001b[1;31mNameError\u001b[0m                                 Traceback (most recent call last)",
      "\u001b[1;32m<ipython-input-5-0171618b12c1>\u001b[0m in \u001b[0;36m<module>\u001b[1;34m\u001b[0m\n\u001b[0;32m      1\u001b[0m \u001b[0mit\u001b[0m\u001b[1;33m=\u001b[0m \u001b[1;36m0\u001b[0m\u001b[1;33m\u001b[0m\u001b[0m\n\u001b[1;32m----> 2\u001b[1;33m \u001b[1;32mfor\u001b[0m \u001b[0mi\u001b[0m \u001b[1;32min\u001b[0m \u001b[0mflash\u001b[0m\u001b[1;33m:\u001b[0m\u001b[1;33m\u001b[0m\u001b[0m\n\u001b[0m\u001b[0;32m      3\u001b[0m     \u001b[0mplt\u001b[0m\u001b[1;33m.\u001b[0m\u001b[0mplot\u001b[0m\u001b[1;33m(\u001b[0m\u001b[0mX\u001b[0m\u001b[1;33m[\u001b[0m\u001b[0mi\u001b[0m\u001b[1;33m[\u001b[0m\u001b[1;36m0\u001b[0m\u001b[1;33m]\u001b[0m\u001b[1;33m:\u001b[0m\u001b[0mi\u001b[0m\u001b[1;33m[\u001b[0m\u001b[1;36m0\u001b[0m\u001b[1;33m]\u001b[0m\u001b[1;33m+\u001b[0m\u001b[1;36m351\u001b[0m\u001b[1;33m]\u001b[0m\u001b[1;33m)\u001b[0m\u001b[1;33m\u001b[0m\u001b[0m\n\u001b[0;32m      4\u001b[0m     \u001b[0mplt\u001b[0m\u001b[1;33m.\u001b[0m\u001b[0mshow\u001b[0m\u001b[1;33m(\u001b[0m\u001b[1;33m)\u001b[0m\u001b[1;33m\u001b[0m\u001b[0m\n\u001b[0;32m      5\u001b[0m     \u001b[1;32mif\u001b[0m \u001b[0mit\u001b[0m \u001b[1;33m==\u001b[0m \u001b[1;36m5\u001b[0m\u001b[1;33m:\u001b[0m\u001b[1;33m\u001b[0m\u001b[0m\n",
      "\u001b[1;31mNameError\u001b[0m: name 'flash' is not defined"
     ]
    }
   ],
   "source": [
    "it= 0\n",
    "for i in flash:\n",
    "    plt.plot(X[i[0]:i[0]+351])\n",
    "    plt.show()\n",
    "    if it == 5:\n",
    "        break\n",
    "    it+=1"
   ]
  },
  {
   "cell_type": "code",
   "execution_count": 6,
   "metadata": {},
   "outputs": [],
   "source": [
    "def clean_data(X, Y, flash):\n",
    "  \n",
    "    X_samples = np.array([np.array(X[i[0]:i[0]+351]) for i in flash] )\n",
    "    column    = [i[2] for i in flash]\n",
    "    label     = [i[3] - 1 for i in flash]\n",
    "\n",
    "    LIMIT = 4080 #the last trial is incomplete\n",
    "    X_selected = np.array(X_samples[:LIMIT])\n",
    "    col_selected = np.array(column[:LIMIT])\n",
    "    label_selected = np.array(label[:LIMIT])\n",
    "\n",
    "    y = np.array(to_categorical(label_selected))\n",
    "\n",
    "    false_idx = [k for k, i in enumerate(y) if i[0] == 1]\n",
    "    true_idx  = [k for k, i in enumerate(y) if i[0] == 0]\n",
    "\n",
    "    falseX = X_selected[false_idx]\n",
    "    falsey = y[false_idx]\n",
    "\n",
    "    trueX  = X_selected[true_idx]  \n",
    "    truey  = y[true_idx]\n",
    "    # proportional data to avoid greedy cost funtion\n",
    "\n",
    "    proportionalX = falseX[:int(len(trueX))]\n",
    "    proportionaly = falsey[:int(len(truey))]\n",
    "\n",
    "    finalX = np.concatenate((trueX, proportionalX))\n",
    "    finaly = np.concatenate((truey, proportionaly))\n",
    "\n",
    "    X_timeseries = np.vstack(finalX)\n",
    "    X_letters = X_timeseries.reshape(34,40,351,8)\n",
    "    y_letters = finaly.reshape(34,40,2)\n",
    "    cleaned_X = np.vstack(X_letters)\n",
    "    cleaned_Y = np.vstack(y_letters)\n",
    "\n",
    "    return cleaned_X, cleaned_Y"
   ]
  },
  {
   "cell_type": "code",
   "execution_count": 7,
   "metadata": {},
   "outputs": [],
   "source": [
    "def prepare_data(file):\n",
    "    allX = []\n",
    "    allY = []\n",
    "    allT = []\n",
    "    allF = []\n",
    "    raw_data = scipy.io.loadmat(file)\n",
    "    useful_data = raw_data['data'].copy()\n",
    "    X = useful_data['X']\n",
    "    Y = useful_data['y']\n",
    "    T = useful_data['trial']\n",
    "    F = useful_data['flash']\n",
    "    # X_mean = np.mean(X, axis=1)\n",
    "    X_filtered = butter_lowpass_filter(X, cutoff, fs, order)\n",
    "    return X_filtered, Y, T, F\n",
    "    #return X, Y, T, F"
   ]
  },
  {
   "cell_type": "code",
   "execution_count": 8,
   "metadata": {},
   "outputs": [],
   "source": [
    "cleaned_X, cleaned_Y = clean_data(X,y,flash)"
   ]
  },
  {
   "cell_type": "code",
   "execution_count": 9,
   "metadata": {},
   "outputs": [
    {
     "data": {
      "text/plain": [
       "(1360, 351, 8)"
      ]
     },
     "execution_count": 9,
     "metadata": {},
     "output_type": "execute_result"
    }
   ],
   "source": [
    "cleaned_X.shape"
   ]
  },
  {
   "cell_type": "code",
   "execution_count": 15,
   "metadata": {},
   "outputs": [
    {
     "name": "stdout",
     "output_type": "stream",
     "text": [
      "Model: \"sequential_1\"\n",
      "_________________________________________________________________\n",
      "Layer (type)                 Output Shape              Param #   \n",
      "=================================================================\n",
      "conv2d_4 (Conv2D)            (None, 351, 8, 16)        1040      \n",
      "_________________________________________________________________\n",
      "conv2d_5 (Conv2D)            (None, 351, 8, 32)        18464     \n",
      "_________________________________________________________________\n",
      "conv2d_6 (Conv2D)            (None, 351, 8, 8)         4104      \n",
      "_________________________________________________________________\n",
      "conv2d_7 (Conv2D)            (None, 351, 8, 4)         132       \n",
      "_________________________________________________________________\n",
      "global_max_pooling2d_1 (Glob (None, 4)                 0         \n",
      "_________________________________________________________________\n",
      "dense_2 (Dense)              (None, 10)                50        \n",
      "_________________________________________________________________\n",
      "dropout_1 (Dropout)          (None, 10)                0         \n",
      "_________________________________________________________________\n",
      "dense_3 (Dense)              (None, 100)               1100      \n",
      "=================================================================\n",
      "Total params: 24,890\n",
      "Trainable params: 24,890\n",
      "Non-trainable params: 0\n",
      "_________________________________________________________________\n"
     ]
    }
   ],
   "source": [
    "input_shape=(351,8,1)\n",
    "model = Sequential()\n",
    "model.add(keras.Input(shape = (351,8,1)))\n",
    "model.add(Conv2D(16, kernel_size=(8,8),padding='same'))\n",
    "model.add(Conv2D(32, kernel_size=(6,6),padding='same'))\n",
    "model.add(Conv2D(8, kernel_size=(4,4),padding='same'))\n",
    "model.add(Conv2D(4, kernel_size=(2,2),padding='same'))\n",
    "\n",
    "model.add(GlobalMaxPooling2D())\n",
    "model.add(Dense(10, activation=tf.nn.relu))\n",
    "model.add(Dropout(0.2))\n",
    "model.add(Dense(100,activation=tf.nn.softmax))\n",
    "\n",
    "model.summary()"
   ]
  },
  {
   "cell_type": "code",
   "execution_count": 12,
   "metadata": {},
   "outputs": [],
   "source": [
    "def get_model2():\n",
    "    input_layer = keras.Input(shape = (351,8,1), name='main_input')\n",
    "    x     = layers.Conv2D(16, kernel_size=(8,1), padding='same', activation='relu')(input_layer)\n",
    "    x     = layers.Conv2D(32, kernel_size=(1,6), padding='same', activation='relu')(x)\n",
    "    x     = layers.Conv2D(8, 4, padding='same', activation='relu')(x)\n",
    "    x     = layers.Conv2D(4, 2, padding='same', activation='relu')(x)\n",
    "    x     = layers.GlobalAveragePooling2D()(x)\n",
    "    x     = layers.Dense(8)(x)\n",
    "    x     = layers.Dense(64)(x)\n",
    "    output = layers.Dense(2, activation='softmax')(x)\n",
    "\n",
    "    model2 = keras.Model(inputs=input_layer, outputs=output)\n",
    "\n",
    "    model2.summary()\n",
    "    return model2"
   ]
  },
  {
   "cell_type": "code",
   "execution_count": 17,
   "metadata": {},
   "outputs": [
    {
     "name": "stdout",
     "output_type": "stream",
     "text": [
      "Model: \"functional_1\"\n",
      "_________________________________________________________________\n",
      "Layer (type)                 Output Shape              Param #   \n",
      "=================================================================\n",
      "main_input (InputLayer)      [(None, 351, 8, 1)]       0         \n",
      "_________________________________________________________________\n",
      "conv2d_8 (Conv2D)            (None, 351, 8, 16)        144       \n",
      "_________________________________________________________________\n",
      "conv2d_9 (Conv2D)            (None, 351, 8, 32)        3104      \n",
      "_________________________________________________________________\n",
      "conv2d_10 (Conv2D)           (None, 351, 8, 8)         4104      \n",
      "_________________________________________________________________\n",
      "conv2d_11 (Conv2D)           (None, 351, 8, 4)         132       \n",
      "_________________________________________________________________\n",
      "global_average_pooling2d (Gl (None, 4)                 0         \n",
      "_________________________________________________________________\n",
      "dense_4 (Dense)              (None, 8)                 40        \n",
      "_________________________________________________________________\n",
      "dense_5 (Dense)              (None, 64)                576       \n",
      "_________________________________________________________________\n",
      "dense_6 (Dense)              (None, 2)                 130       \n",
      "=================================================================\n",
      "Total params: 8,230\n",
      "Trainable params: 8,230\n",
      "Non-trainable params: 0\n",
      "_________________________________________________________________\n"
     ]
    }
   ],
   "source": [
    "asd = get_model2()"
   ]
  },
  {
   "cell_type": "code",
   "execution_count": 18,
   "metadata": {},
   "outputs": [
    {
     "name": "stdout",
     "output_type": "stream",
     "text": [
      "Model: \"functional_3\"\n",
      "_________________________________________________________________\n",
      "Layer (type)                 Output Shape              Param #   \n",
      "=================================================================\n",
      "main_input (InputLayer)      [(None, 351, 8, 1)]       0         \n",
      "_________________________________________________________________\n",
      "conv2d_12 (Conv2D)           (None, 351, 8, 16)        1040      \n",
      "_________________________________________________________________\n",
      "conv2d_13 (Conv2D)           (None, 351, 8, 32)        18464     \n",
      "_________________________________________________________________\n",
      "conv2d_14 (Conv2D)           (None, 351, 8, 8)         4104      \n",
      "_________________________________________________________________\n",
      "conv2d_15 (Conv2D)           (None, 351, 8, 4)         132       \n",
      "_________________________________________________________________\n",
      "global_average_pooling2d_1 ( (None, 4)                 0         \n",
      "_________________________________________________________________\n",
      "dense_7 (Dense)              (None, 8)                 40        \n",
      "_________________________________________________________________\n",
      "dense_8 (Dense)              (None, 64)                576       \n",
      "_________________________________________________________________\n",
      "dense_9 (Dense)              (None, 2)                 130       \n",
      "=================================================================\n",
      "Total params: 24,486\n",
      "Trainable params: 24,486\n",
      "Non-trainable params: 0\n",
      "_________________________________________________________________\n"
     ]
    }
   ],
   "source": [
    "input_layer = keras.Input(shape = (351,8,1), name='main_input')\n",
    "x     = layers.Conv2D(16, 8, padding='same', activation='relu')(input_layer)\n",
    "x     = layers.Conv2D(32, 6, padding='same', activation='relu')(x)\n",
    "x     = layers.Conv2D(8, 4, padding='same', activation='relu')(x)\n",
    "x     = layers.Conv2D(4, 2, padding='same', activation='relu')(x)\n",
    "x     = layers.GlobalAveragePooling2D()(x)\n",
    "x     = layers.Dense(8)(x)\n",
    "x     = layers.Dense(64)(x)\n",
    "output = layers.Dense(2, activation='softmax')(x)\n",
    "\n",
    "his_model = keras.Model(inputs=input_layer, outputs=output)\n",
    "\n",
    "his_model.summary()"
   ]
  },
  {
   "cell_type": "code",
   "execution_count": 13,
   "metadata": {},
   "outputs": [
    {
     "name": "stdout",
     "output_type": "stream",
     "text": [
      "INFO:tensorflow:Using MirroredStrategy with devices ('/job:localhost/replica:0/task:0/device:GPU:0', '/job:localhost/replica:0/task:0/device:GPU:1')\n",
      "Number of devices: 2\n",
      "Model: \"functional_1\"\n",
      "_________________________________________________________________\n",
      "Layer (type)                 Output Shape              Param #   \n",
      "=================================================================\n",
      "main_input (InputLayer)      [(None, 351, 8, 1)]       0         \n",
      "_________________________________________________________________\n",
      "conv2d_1 (Conv2D)            (None, 351, 8, 16)        144       \n",
      "_________________________________________________________________\n",
      "conv2d_2 (Conv2D)            (None, 351, 8, 32)        3104      \n",
      "_________________________________________________________________\n",
      "conv2d_3 (Conv2D)            (None, 351, 8, 8)         4104      \n",
      "_________________________________________________________________\n",
      "conv2d_4 (Conv2D)            (None, 351, 8, 4)         132       \n",
      "_________________________________________________________________\n",
      "global_average_pooling2d (Gl (None, 4)                 0         \n",
      "_________________________________________________________________\n",
      "dense (Dense)                (None, 8)                 40        \n",
      "_________________________________________________________________\n",
      "dense_1 (Dense)              (None, 64)                576       \n",
      "_________________________________________________________________\n",
      "dense_2 (Dense)              (None, 2)                 130       \n",
      "=================================================================\n",
      "Total params: 8,230\n",
      "Trainable params: 8,230\n",
      "Non-trainable params: 0\n",
      "_________________________________________________________________\n"
     ]
    }
   ],
   "source": [
    "strategy = tf.distribute.MirroredStrategy()\n",
    "print('Number of devices: {}'.format(strategy.num_replicas_in_sync))\n",
    "#with strategy.scope():\n",
    "#    model2=get_model2()\n",
    "    #compiling the model\n",
    "opt = keras.optimizers.Adam(lr=0.001, beta_1=0.9, beta_2=0.999, amsgrad=True)  # default params\n",
    "    #model.compile(optimizer=opt,\n",
    "    #              loss='binary_crossentropy',\n",
    "    #              metrics=['accuracy'])\n",
    "model = get_model2()\n",
    "model.compile(optimizer=opt,\n",
    "              loss='binary_crossentropy',\n",
    "              metrics=['accuracy'])"
   ]
  },
  {
   "cell_type": "code",
   "execution_count": 14,
   "metadata": {
    "scrolled": true
   },
   "outputs": [
    {
     "name": "stderr",
     "output_type": "stream",
     "text": [
      "C:\\Users\\Nemes\\anaconda3\\envs\\tf\\lib\\site-packages\\ipykernel_launcher.py:3: VisibleDeprecationWarning: Creating an ndarray from ragged nested sequences (which is a list-or-tuple of lists-or-tuples-or ndarrays with different lengths or shapes) is deprecated. If you meant to do this, you must specify 'dtype=object' when creating the ndarray\n",
      "  This is separate from the ipykernel package so we can avoid doing imports until\n"
     ]
    },
    {
     "name": "stdout",
     "output_type": "stream",
     "text": [
      "Epoch 1/75\n",
      "327/327 [==============================] - 4s 11ms/step - loss: 0.6886 - accuracy: 0.5160 - val_loss: 0.6816 - val_accuracy: 0.5285\n",
      "Epoch 2/75\n",
      "327/327 [==============================] - 3s 10ms/step - loss: 0.6810 - accuracy: 0.5466 - val_loss: 0.6785 - val_accuracy: 0.5533\n",
      "Epoch 3/75\n",
      "327/327 [==============================] - 3s 10ms/step - loss: 0.6759 - accuracy: 0.5684 - val_loss: 0.6584 - val_accuracy: 0.5993\n",
      "Epoch 4/75\n",
      "327/327 [==============================] - 3s 10ms/step - loss: 0.6702 - accuracy: 0.5767 - val_loss: 0.6570 - val_accuracy: 0.6075\n",
      "Epoch 5/75\n",
      "327/327 [==============================] - 3s 10ms/step - loss: 0.6611 - accuracy: 0.6017 - val_loss: 0.6386 - val_accuracy: 0.6333\n",
      "Epoch 6/75\n",
      "327/327 [==============================] - 3s 10ms/step - loss: 0.6496 - accuracy: 0.6207 - val_loss: 0.6251 - val_accuracy: 0.6471\n",
      "Epoch 7/75\n",
      "327/327 [==============================] - 3s 10ms/step - loss: 0.6374 - accuracy: 0.6364 - val_loss: 0.6445 - val_accuracy: 0.6066\n",
      "Epoch 8/75\n",
      "327/327 [==============================] - 3s 10ms/step - loss: 0.6206 - accuracy: 0.6540 - val_loss: 0.6222 - val_accuracy: 0.6406\n",
      "Epoch 9/75\n",
      "327/327 [==============================] - 3s 10ms/step - loss: 0.6094 - accuracy: 0.6616 - val_loss: 0.5924 - val_accuracy: 0.6682\n",
      "Epoch 10/75\n",
      "327/327 [==============================] - 3s 10ms/step - loss: 0.5944 - accuracy: 0.6735 - val_loss: 0.5881 - val_accuracy: 0.6893\n",
      "Epoch 11/75\n",
      "327/327 [==============================] - 3s 10ms/step - loss: 0.5885 - accuracy: 0.6807 - val_loss: 0.6241 - val_accuracy: 0.6599\n",
      "Epoch 12/75\n",
      "327/327 [==============================] - 3s 10ms/step - loss: 0.5798 - accuracy: 0.6914 - val_loss: 0.5822 - val_accuracy: 0.6728\n",
      "Epoch 13/75\n",
      "327/327 [==============================] - 3s 10ms/step - loss: 0.5617 - accuracy: 0.6991 - val_loss: 0.5866 - val_accuracy: 0.6866\n",
      "Epoch 14/75\n",
      "327/327 [==============================] - 3s 10ms/step - loss: 0.5564 - accuracy: 0.7132 - val_loss: 0.5689 - val_accuracy: 0.6994\n",
      "Epoch 15/75\n",
      "327/327 [==============================] - 3s 10ms/step - loss: 0.5463 - accuracy: 0.7164 - val_loss: 0.5699 - val_accuracy: 0.6967\n",
      "Epoch 16/75\n",
      "327/327 [==============================] - 3s 10ms/step - loss: 0.5380 - accuracy: 0.7267 - val_loss: 0.5995 - val_accuracy: 0.7031\n",
      "Epoch 17/75\n",
      "327/327 [==============================] - 3s 10ms/step - loss: 0.5325 - accuracy: 0.7256 - val_loss: 0.5714 - val_accuracy: 0.6958\n",
      "Epoch 18/75\n",
      "327/327 [==============================] - 3s 10ms/step - loss: 0.5282 - accuracy: 0.7368 - val_loss: 0.5590 - val_accuracy: 0.6985\n",
      "Epoch 19/75\n",
      "327/327 [==============================] - 3s 10ms/step - loss: 0.5104 - accuracy: 0.7445 - val_loss: 0.5548 - val_accuracy: 0.7233\n",
      "Epoch 20/75\n",
      "327/327 [==============================] - 3s 10ms/step - loss: 0.5082 - accuracy: 0.7466 - val_loss: 0.5590 - val_accuracy: 0.7096\n",
      "Epoch 21/75\n",
      "327/327 [==============================] - 3s 10ms/step - loss: 0.4991 - accuracy: 0.7543 - val_loss: 0.5758 - val_accuracy: 0.6921\n",
      "Epoch 22/75\n",
      "327/327 [==============================] - 3s 10ms/step - loss: 0.4957 - accuracy: 0.7568 - val_loss: 0.5516 - val_accuracy: 0.7178\n",
      "Epoch 23/75\n",
      "327/327 [==============================] - 3s 10ms/step - loss: 0.4870 - accuracy: 0.7659 - val_loss: 0.5466 - val_accuracy: 0.7178\n",
      "Epoch 24/75\n",
      "327/327 [==============================] - 3s 10ms/step - loss: 0.4767 - accuracy: 0.7670 - val_loss: 0.5878 - val_accuracy: 0.7325\n",
      "Epoch 25/75\n",
      "327/327 [==============================] - 3s 10ms/step - loss: 0.4648 - accuracy: 0.7780 - val_loss: 0.5504 - val_accuracy: 0.7224\n",
      "Epoch 26/75\n",
      "327/327 [==============================] - 3s 10ms/step - loss: 0.4721 - accuracy: 0.7712 - val_loss: 0.5489 - val_accuracy: 0.7298\n",
      "Epoch 27/75\n",
      "327/327 [==============================] - 3s 10ms/step - loss: 0.4531 - accuracy: 0.7845 - val_loss: 0.5578 - val_accuracy: 0.7233\n",
      "Epoch 28/75\n",
      "327/327 [==============================] - 3s 10ms/step - loss: 0.4597 - accuracy: 0.7792 - val_loss: 0.5803 - val_accuracy: 0.7059\n",
      "Epoch 29/75\n",
      "327/327 [==============================] - 3s 10ms/step - loss: 0.4426 - accuracy: 0.7919 - val_loss: 0.5832 - val_accuracy: 0.7417\n",
      "Epoch 30/75\n",
      "327/327 [==============================] - 3s 10ms/step - loss: 0.4384 - accuracy: 0.7969 - val_loss: 0.5422 - val_accuracy: 0.7344\n",
      "Epoch 31/75\n",
      "327/327 [==============================] - 3s 10ms/step - loss: 0.4385 - accuracy: 0.7911 - val_loss: 0.5217 - val_accuracy: 0.7390\n",
      "Epoch 32/75\n",
      "327/327 [==============================] - 3s 10ms/step - loss: 0.4257 - accuracy: 0.8028 - val_loss: 0.6181 - val_accuracy: 0.6682\n",
      "Epoch 33/75\n",
      "327/327 [==============================] - 3s 10ms/step - loss: 0.4182 - accuracy: 0.8023 - val_loss: 0.6726 - val_accuracy: 0.7224\n",
      "Epoch 34/75\n",
      "327/327 [==============================] - 3s 10ms/step - loss: 0.4289 - accuracy: 0.8011 - val_loss: 0.5269 - val_accuracy: 0.7417\n",
      "Epoch 35/75\n",
      "327/327 [==============================] - 3s 10ms/step - loss: 0.4147 - accuracy: 0.8056 - val_loss: 0.5402 - val_accuracy: 0.7482\n",
      "Epoch 36/75\n",
      "327/327 [==============================] - 3s 10ms/step - loss: 0.4096 - accuracy: 0.8102 - val_loss: 0.5252 - val_accuracy: 0.7647\n",
      "Epoch 37/75\n",
      "327/327 [==============================] - 3s 10ms/step - loss: 0.4054 - accuracy: 0.8158 - val_loss: 0.6618 - val_accuracy: 0.7408\n",
      "Epoch 38/75\n",
      "327/327 [==============================] - 3s 10ms/step - loss: 0.4050 - accuracy: 0.8175 - val_loss: 0.5298 - val_accuracy: 0.7592\n",
      "Epoch 39/75\n",
      "327/327 [==============================] - 3s 10ms/step - loss: 0.4022 - accuracy: 0.8137 - val_loss: 0.5375 - val_accuracy: 0.7316\n",
      "Epoch 40/75\n",
      "327/327 [==============================] - 3s 10ms/step - loss: 0.3939 - accuracy: 0.8176 - val_loss: 0.5334 - val_accuracy: 0.7390\n",
      "Epoch 41/75\n",
      "327/327 [==============================] - 3s 10ms/step - loss: 0.3826 - accuracy: 0.8235 - val_loss: 0.5453 - val_accuracy: 0.7399\n",
      "Epoch 42/75\n",
      "327/327 [==============================] - 3s 10ms/step - loss: 0.3864 - accuracy: 0.8260 - val_loss: 0.5391 - val_accuracy: 0.7381\n",
      "Epoch 43/75\n",
      "327/327 [==============================] - 3s 10ms/step - loss: 0.3791 - accuracy: 0.8291 - val_loss: 0.5717 - val_accuracy: 0.7482\n",
      "Epoch 44/75\n",
      "327/327 [==============================] - 3s 10ms/step - loss: 0.3833 - accuracy: 0.8191 - val_loss: 0.5425 - val_accuracy: 0.7592\n",
      "Epoch 45/75\n",
      "327/327 [==============================] - 3s 10ms/step - loss: 0.3778 - accuracy: 0.8316 - val_loss: 0.5477 - val_accuracy: 0.7665\n",
      "Epoch 46/75\n",
      "327/327 [==============================] - 3s 10ms/step - loss: 0.3677 - accuracy: 0.8357 - val_loss: 0.5557 - val_accuracy: 0.7583\n",
      "Epoch 47/75\n",
      "327/327 [==============================] - 3s 10ms/step - loss: 0.3570 - accuracy: 0.8395 - val_loss: 0.5563 - val_accuracy: 0.7711\n",
      "Epoch 48/75\n",
      "327/327 [==============================] - 3s 10ms/step - loss: 0.3636 - accuracy: 0.8358 - val_loss: 0.5312 - val_accuracy: 0.7619\n",
      "Epoch 49/75\n",
      "327/327 [==============================] - 3s 10ms/step - loss: 0.3670 - accuracy: 0.8342 - val_loss: 0.5366 - val_accuracy: 0.7711\n",
      "Epoch 50/75\n",
      "327/327 [==============================] - 3s 10ms/step - loss: 0.3619 - accuracy: 0.8394 - val_loss: 0.5396 - val_accuracy: 0.7730\n",
      "Epoch 51/75\n",
      "327/327 [==============================] - 3s 10ms/step - loss: 0.3642 - accuracy: 0.8362 - val_loss: 0.5621 - val_accuracy: 0.7730\n",
      "Epoch 52/75\n",
      "327/327 [==============================] - 3s 10ms/step - loss: 0.3523 - accuracy: 0.8426 - val_loss: 0.5408 - val_accuracy: 0.7684\n",
      "Epoch 53/75\n",
      "327/327 [==============================] - 3s 10ms/step - loss: 0.3503 - accuracy: 0.8480 - val_loss: 0.5928 - val_accuracy: 0.7647\n",
      "Epoch 54/75\n",
      "327/327 [==============================] - 3s 10ms/step - loss: 0.3427 - accuracy: 0.8457 - val_loss: 0.5373 - val_accuracy: 0.7739\n",
      "Epoch 55/75\n",
      "327/327 [==============================] - 3s 10ms/step - loss: 0.3416 - accuracy: 0.8484 - val_loss: 0.5345 - val_accuracy: 0.7730\n",
      "Epoch 56/75\n",
      "327/327 [==============================] - 3s 10ms/step - loss: 0.3380 - accuracy: 0.8524 - val_loss: 0.5778 - val_accuracy: 0.7472\n",
      "Epoch 57/75\n",
      "327/327 [==============================] - 3s 10ms/step - loss: 0.3374 - accuracy: 0.8497 - val_loss: 0.5436 - val_accuracy: 0.7785\n"
     ]
    },
    {
     "name": "stdout",
     "output_type": "stream",
     "text": [
      "Epoch 58/75\n",
      "327/327 [==============================] - 3s 10ms/step - loss: 0.3359 - accuracy: 0.8554 - val_loss: 0.5890 - val_accuracy: 0.7114\n",
      "Epoch 59/75\n",
      "327/327 [==============================] - 3s 10ms/step - loss: 0.3491 - accuracy: 0.8490 - val_loss: 0.5300 - val_accuracy: 0.7601\n",
      "Epoch 60/75\n",
      "327/327 [==============================] - 3s 10ms/step - loss: 0.3258 - accuracy: 0.8570 - val_loss: 0.5825 - val_accuracy: 0.7638\n",
      "Epoch 61/75\n",
      "327/327 [==============================] - 3s 10ms/step - loss: 0.3293 - accuracy: 0.8540 - val_loss: 0.5332 - val_accuracy: 0.7822\n",
      "Epoch 62/75\n",
      "327/327 [==============================] - 3s 10ms/step - loss: 0.3357 - accuracy: 0.8561 - val_loss: 0.5419 - val_accuracy: 0.7693\n",
      "Epoch 63/75\n",
      "327/327 [==============================] - 3s 10ms/step - loss: 0.3126 - accuracy: 0.8644 - val_loss: 0.6094 - val_accuracy: 0.7776\n",
      "Epoch 64/75\n",
      "327/327 [==============================] - 3s 10ms/step - loss: 0.3281 - accuracy: 0.8537 - val_loss: 0.5842 - val_accuracy: 0.7362\n",
      "Epoch 65/75\n",
      "327/327 [==============================] - 3s 10ms/step - loss: 0.3183 - accuracy: 0.8611 - val_loss: 0.5484 - val_accuracy: 0.7822\n",
      "Epoch 66/75\n",
      "327/327 [==============================] - 3s 10ms/step - loss: 0.3143 - accuracy: 0.8639 - val_loss: 0.5525 - val_accuracy: 0.7638\n",
      "Epoch 67/75\n",
      "327/327 [==============================] - 3s 10ms/step - loss: 0.3202 - accuracy: 0.8631 - val_loss: 0.6525 - val_accuracy: 0.6645\n",
      "Epoch 68/75\n",
      "327/327 [==============================] - 3s 10ms/step - loss: 0.3087 - accuracy: 0.8629 - val_loss: 0.5548 - val_accuracy: 0.7767\n",
      "Epoch 69/75\n",
      "327/327 [==============================] - 3s 10ms/step - loss: 0.3171 - accuracy: 0.8623 - val_loss: 0.5329 - val_accuracy: 0.7730\n",
      "Epoch 70/75\n",
      "327/327 [==============================] - 3s 10ms/step - loss: 0.3010 - accuracy: 0.8700 - val_loss: 0.5792 - val_accuracy: 0.7335\n",
      "Epoch 71/75\n",
      "327/327 [==============================] - 3s 10ms/step - loss: 0.2966 - accuracy: 0.8696 - val_loss: 0.5860 - val_accuracy: 0.7767\n",
      "Epoch 72/75\n",
      "327/327 [==============================] - 3s 10ms/step - loss: 0.3096 - accuracy: 0.8651 - val_loss: 0.5521 - val_accuracy: 0.7684\n",
      "Epoch 73/75\n",
      "327/327 [==============================] - 3s 10ms/step - loss: 0.3090 - accuracy: 0.8642 - val_loss: 0.5538 - val_accuracy: 0.7638\n",
      "Epoch 74/75\n",
      "327/327 [==============================] - 3s 10ms/step - loss: 0.2927 - accuracy: 0.8737 - val_loss: 0.5788 - val_accuracy: 0.7868\n",
      "Epoch 75/75\n",
      "327/327 [==============================] - 3s 10ms/step - loss: 0.2958 - accuracy: 0.8722 - val_loss: 0.5982 - val_accuracy: 0.7500\n"
     ]
    }
   ],
   "source": [
    "appX = []\n",
    "appy = []\n",
    "\n",
    "#for file in files:\n",
    "#    X, Y, Trials, Flash = prepare_data(file)\n",
    "#    X_clean, y_clean = clean_data(X, Y, Flash)\n",
    "#    appX.append(X_clean)\n",
    "#    appy.append(y_clean)\n",
    "\n",
    "for mat in mats:\n",
    "    X = mat['data']['X'][0][0]\n",
    "    y = mat['data']['y'][0][0]\n",
    "    flash = mat['data']['flash'][0][0]\n",
    "    cleaned_X, cleaned_Y = clean_data(X,y,flash)      \n",
    "    appX.append(cleaned_X)\n",
    "    appy.append(cleaned_Y)\n",
    "\n",
    "X = [subject for subject in appX]\n",
    "y = [subject for subject in appy]\n",
    "X_train, X_valid, y_train, y_valid = train_test_split(np.vstack(X), np.vstack(y), test_size=0.1, random_state=816)\n",
    "history = model.fit(X_train, y_train, validation_data=(X_valid, y_valid), batch_size=30, epochs=75, verbose=1)"
   ]
  },
  {
   "cell_type": "code",
   "execution_count": 28,
   "metadata": {},
   "outputs": [
    {
     "ename": "SyntaxError",
     "evalue": "invalid syntax (<ipython-input-28-f7e4f5188f86>, line 1)",
     "output_type": "error",
     "traceback": [
      "\u001b[1;36m  File \u001b[1;32m\"<ipython-input-28-f7e4f5188f86>\"\u001b[1;36m, line \u001b[1;32m1\u001b[0m\n\u001b[1;33m    0.8 acc 0.7 val acc a his\u001b[0m\n\u001b[1;37m          ^\u001b[0m\n\u001b[1;31mSyntaxError\u001b[0m\u001b[1;31m:\u001b[0m invalid syntax\n"
     ]
    }
   ],
   "source": [
    "0.8 acc 0.7 val acc a his"
   ]
  },
  {
   "cell_type": "code",
   "execution_count": null,
   "metadata": {},
   "outputs": [],
   "source": []
  }
 ],
 "metadata": {
  "kernelspec": {
   "display_name": "Python 3",
   "language": "python",
   "name": "python3"
  },
  "language_info": {
   "codemirror_mode": {
    "name": "ipython",
    "version": 3
   },
   "file_extension": ".py",
   "mimetype": "text/x-python",
   "name": "python",
   "nbconvert_exporter": "python",
   "pygments_lexer": "ipython3",
   "version": "3.7.0"
  }
 },
 "nbformat": 4,
 "nbformat_minor": 4
}
